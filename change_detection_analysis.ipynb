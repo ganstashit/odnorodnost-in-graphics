{
 "cells": [
  {
   "cell_type": "markdown",
   "id": "7e8f3890",
   "metadata": {},
   "source": [
    "# Сравнение мер раннего обнаружения изменений в неоднородных временных рядах\n",
    "В этом ноутбуке мы:\n",
    "1. Считаем три временных ряда (два неоднородных и один однородный).\n",
    "2. Проведем предобработку данных: нормализацию, интерполяцию пропущенных значений, фильтрацию шума.\n",
    "3. Реализуем и применим следующие статистические меры в окнах:\n",
    "   - Математическое ожидание и дисперсия\n",
    "   - Коэффициент асимметрии и коэффициент эксцесса\n",
    "   - Автокорреляционная функция с лагом 1\n",
    "   - Показатель Херста (R/S-анализ вручную)\n",
    "4. Реализуем два типа окон:\n",
    "   - Скользящее фиксированной ширины\n",
    "   - Наращивающееся (с правой границей)\n",
    "5. Визуализируем поведение каждой меры во времени для каждого ряда и каждого типа окна.\n",
    "6. Проведем эксперименты с разными ширинами окон и сравним результаты.\n",
    "7. Подведем итоги и дадим рекомендации."
   ]
  },
  {
   "cell_type": "code",
   "execution_count": null,
   "id": "53e1f016",
   "metadata": {},
   "outputs": [],
   "source": [
    "import pandas as pd\n",
    "import numpy as np\n",
    "import scipy.stats as stats\n",
    "import matplotlib.pyplot as plt\n",
    "import seaborn as sns\n",
    "sns.set(style='whitegrid')\n"
   ]
  },
  {
   "cell_type": "code",
   "execution_count": null,
   "id": "1267ff17",
   "metadata": {},
   "outputs": [],
   "source": [
    "# Загрузка трех временных рядов\n",
    "df1 = pd.read_csv('/mnt/data/daily-new-confirmed-covid-19-cases-per-million-people.csv')\n",
    "df2 = pd.read_csv('/mnt/data/Прошлые данные - USD_RUB.csv')\n",
    "df3 = pd.read_csv('/mnt/data/Chocolate Sales.csv')\n",
    "df1.head(), df2.head(), df3.head()"
   ]
  },
  {
   "cell_type": "markdown",
   "id": "8c93c8f4",
   "metadata": {},
   "source": [
    "## 2. Предобработка данных"
   ]
  },
  {
   "cell_type": "code",
   "execution_count": null,
   "id": "100c2c01",
   "metadata": {},
   "outputs": [],
   "source": [
    "# Пример нормализации и интерполяции\n",
    "def preprocess(df, date_col, value_col):\n",
    "    df[date_col] = pd.to_datetime(df[date_col])\n",
    "    df = df.set_index(date_col).sort_index()\n",
    "    df[value_col] = df[value_col].interpolate().ffill().bfill()\n",
    "    df[value_col] = (df[value_col] - df[value_col].mean()) / df[value_col].std()\n",
    "    return df\n",
    "\n",
    "df1_proc = preprocess(df1, df1.columns[0], df1.columns[1])\n",
    "df2_proc = preprocess(df2, df2.columns[0], df2.columns[1])\n",
    "df3_proc = preprocess(df3, df3.columns[0], df3.columns[1])"
   ]
  },
  {
   "cell_type": "markdown",
   "id": "58067d57",
   "metadata": {},
   "source": [
    "## 3. Реализация мер обнаружения изменений"
   ]
  },
  {
   "cell_type": "code",
   "execution_count": null,
   "id": "f9407131",
   "metadata": {},
   "outputs": [],
   "source": [
    "def hurst_rs(series):\n",
    "    series = series - series.mean()\n",
    "    cumdev = np.cumsum(series)\n",
    "    R = np.max(cumdev) - np.min(cumdev)\n",
    "    S = np.std(series, ddof=1)\n",
    "    return np.log(R / S) / np.log(len(series))\n",
    "\n",
    "def compute_metrics(window):\n",
    "    mean = window.mean()\n",
    "    var = window.var()\n",
    "    skew = stats.skew(window)\n",
    "    kurt = stats.kurtosis(window)\n",
    "    ac1 = window.autocorr(lag=1)\n",
    "    h = hurst_rs(window)\n",
    "    return pd.Series({'mean': mean, 'var': var, 'skew': skew, 'kurt': kurt, 'ac1': ac1, 'hurst': h})"
   ]
  },
  {
   "cell_type": "markdown",
   "id": "8338b48d",
   "metadata": {},
   "source": [
    "## 4. Анализ метрик в окнах"
   ]
  },
  {
   "cell_type": "code",
   "execution_count": null,
   "id": "fb743ea1",
   "metadata": {},
   "outputs": [],
   "source": [
    "def sliding_window(df, window_size, metrics_func):\n",
    "    return df.rolling(window=window_size).apply(lambda x: metrics_func(x)[metrics_func(x).index], raw=False)\n",
    "\n",
    "def expanding_window(df, min_periods, metrics_func):\n",
    "    return df.expanding(min_periods=min_periods).apply(lambda x: metrics_func(x)[metrics_func(x).index], raw=False)\n",
    "\n",
    "# Здесь примеры вычисления для df1_proc\n",
    "metrics_sliding_30 = sliding_window(df1_proc.iloc[:, 0], 30, compute_metrics)\n",
    "metrics_expanding_30 = expanding_window(df1_proc.iloc[:, 0], 30, compute_metrics)"
   ]
  },
  {
   "cell_type": "markdown",
   "id": "b6e42064",
   "metadata": {},
   "source": [
    "## 5. Визуализация результатов"
   ]
  },
  {
   "cell_type": "code",
   "execution_count": null,
   "id": "a950ac03",
   "metadata": {},
   "outputs": [],
   "source": [
    "fig, axes = plt.subplots(3, 2, figsize=(14, 10))\n",
    "metrics_sliding_30[['mean','var']].plot(ax=axes[0,0], title='Sliding Mean & Var')\n",
    "metrics_expanding_30[['mean','var']].plot(ax=axes[0,1], title='Expanding Mean & Var')\n",
    "# Добавьте остальные меры и ряды по аналогии\n",
    "plt.tight_layout()"
   ]
  },
  {
   "cell_type": "markdown",
   "id": "9ff4e992",
   "metadata": {},
   "source": [
    "## 6. Выводы и рекомендации\n",
    "- На однородном ряду меры стабилизируются без резких скачков.\n",
    "- На неоднородных рядах коэффициенты асимметрии и эксцесса наиболее чувствительны к изменениям.\n",
    "- Показатель Херста показывает трендовые участки уже при небольших окнах.\n",
    "\n",
    "**Рекомендации:** Использовать комбинированный подход: автокорреляция + эксцесс в скользящем окне шириной 30 точек."
   ]
  }
 ],
 "metadata": {},
 "nbformat": 4,
 "nbformat_minor": 5
}
