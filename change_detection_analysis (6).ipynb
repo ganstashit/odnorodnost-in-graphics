{
 "cells": [
  {
   "cell_type": "markdown",
   "id": "07a63ae6",
   "metadata": {},
   "source": [
    "# Сравнение мер раннего обнаружения изменений в трех временных рядах\n",
    "В этом ноутбуке для каждого ряда:\n",
    "1. Загружаем и визуализируем сырые данные\n",
    "2. Вычисляем коэффициент асимметрии и эксцесса в скользящем окне (30) и наращивающемся (min 30)\n",
    "3. Визуализируем результаты\n",
    "После этого сравниваем полученные метрики между рядами.\n"
   ]
  },
  {
   "cell_type": "code",
   "execution_count": null,
   "id": "6b26fb5a",
   "metadata": {},
   "outputs": [],
   "source": [
    "import pandas as pd\n",
    "import numpy as np\n",
    "import scipy.stats as stats\n",
    "import matplotlib.pyplot as plt\n",
    "import seaborn as sns\n",
    "sns.set(style='whitegrid')\n"
   ]
  },
  {
   "cell_type": "code",
   "execution_count": null,
   "id": "18aa422a",
   "metadata": {},
   "outputs": [],
   "source": [
    "def preprocess(df, date_col, value_col):\n",
    "    df = df.copy()\n",
    "    df[date_col] = pd.to_datetime(df[date_col])\n",
    "    df = df.set_index(date_col).sort_index()\n",
    "    df[value_col] = df[value_col].interpolate().ffill().bfill()\n",
    "    return df\n",
    "\n",
    "def compute_skew_kurt(series, window):\n",
    "    skew = series.rolling(window).apply(lambda x: stats.skew(x), raw=False)\n",
    "    kurt = series.rolling(window).apply(lambda x: stats.kurtosis(x), raw=False)\n",
    "    exp_skew = series.expanding(min_periods=window).apply(lambda x: stats.skew(x), raw=False)\n",
    "    exp_kurt = series.expanding(min_periods=window).apply(lambda x: stats.kurtosis(x), raw=False)\n",
    "    return skew, kurt, exp_skew, exp_kurt\n"
   ]
  },
  {
   "cell_type": "markdown",
   "id": "f1a08a9b",
   "metadata": {},
   "source": [
    "## Ряд: COVID-19 Cases"
   ]
  },
  {
   "cell_type": "code",
   "execution_count": null,
   "id": "15cfc0c2",
   "metadata": {},
   "outputs": [],
   "source": [
    "# Загрузка и предобработка\n",
    "df = pd.read_csv(r'/mnt/data/daily-new-confirmed-covid-19-cases-per-million-people.csv')\n",
    "df_proc = preprocess(df, df.columns[0], df.columns[1])\n",
    "\n",
    "# Визуализация сырых данных\n",
    "plt.figure(figsize=(10,4))\n",
    "plt.plot(pd.to_datetime(df.iloc[:,0]), df.iloc[:,1], label='Raw Data')\n",
    "plt.title('Исходные данные: COVID-19 Cases')\n",
    "plt.xlabel('Дата')\n",
    "plt.ylabel(df.columns[1])\n",
    "plt.legend()\n",
    "plt.show()\n",
    "\n",
    "# Вычисление skew и kurtosis\n",
    "series = df_proc.iloc[:,0]\n",
    "skew_s, kurt_s, skew_e, kurt_e = compute_skew_kurt(series, 30)\n",
    "\n",
    "# Визуализация метрик\n",
    "fig, ax = plt.subplots(1,2, figsize=(12,4))\n",
    "skew_s.plot(ax=ax[0], label='Rolling Skew (30)')\n",
    "kurt_s.plot(ax=ax[0], label='Rolling Kurt (30)')\n",
    "ax[0].set_title('Скользящие метрики')\n",
    "ax[0].legend()\n",
    "\n",
    "skew_e.plot(ax=ax[1], label='Exp Skew (min 30)')\n",
    "kurt_e.plot(ax=ax[1], label='Exp Kurt (min 30)')\n",
    "ax[1].set_title('Наращивающиеся метрики')\n",
    "ax[1].legend()\n",
    "plt.tight_layout()\n"
   ]
  },
  {
   "cell_type": "markdown",
   "id": "1d25a013",
   "metadata": {},
   "source": [
    "## Ряд: USD/RUB Exchange Rate"
   ]
  },
  {
   "cell_type": "code",
   "execution_count": null,
   "id": "396c097a",
   "metadata": {},
   "outputs": [],
   "source": [
    "# Загрузка и предобработка\n",
    "df = pd.read_csv(r'/mnt/data/Прошлые данные - USD_RUB.csv')\n",
    "df_proc = preprocess(df, df.columns[0], df.columns[1])\n",
    "\n",
    "# Визуализация сырых данных\n",
    "plt.figure(figsize=(10,4))\n",
    "plt.plot(pd.to_datetime(df.iloc[:,0]), df.iloc[:,1], label='Raw Data')\n",
    "plt.title('Исходные данные: USD/RUB Exchange Rate')\n",
    "plt.xlabel('Дата')\n",
    "plt.ylabel(df.columns[1])\n",
    "plt.legend()\n",
    "plt.show()\n",
    "\n",
    "# Вычисление skew и kurtosis\n",
    "series = df_proc.iloc[:,0]\n",
    "skew_s, kurt_s, skew_e, kurt_e = compute_skew_kurt(series, 30)\n",
    "\n",
    "# Визуализация метрик\n",
    "fig, ax = plt.subplots(1,2, figsize=(12,4))\n",
    "skew_s.plot(ax=ax[0], label='Rolling Skew (30)')\n",
    "kurt_s.plot(ax=ax[0], label='Rolling Kurt (30)')\n",
    "ax[0].set_title('Скользящие метрики')\n",
    "ax[0].legend()\n",
    "\n",
    "skew_e.plot(ax=ax[1], label='Exp Skew (min 30)')\n",
    "kurt_e.plot(ax=ax[1], label='Exp Kurt (min 30)')\n",
    "ax[1].set_title('Наращивающиеся метрики')\n",
    "ax[1].legend()\n",
    "plt.tight_layout()\n"
   ]
  },
  {
   "cell_type": "markdown",
   "id": "4d206a49",
   "metadata": {},
   "source": [
    "## Ряд: Chocolate Sales"
   ]
  },
  {
   "cell_type": "code",
   "execution_count": null,
   "id": "632c6145",
   "metadata": {},
   "outputs": [],
   "source": [
    "# Загрузка и предобработка\n",
    "df = pd.read_csv(r'/mnt/data/Chocolate Sales.csv')\n",
    "df_proc = preprocess(df, df.columns[0], df.columns[1])\n",
    "\n",
    "# Визуализация сырых данных\n",
    "plt.figure(figsize=(10,4))\n",
    "plt.plot(pd.to_datetime(df.iloc[:,0]), df.iloc[:,1], label='Raw Data')\n",
    "plt.title('Исходные данные: Chocolate Sales')\n",
    "plt.xlabel('Дата')\n",
    "plt.ylabel(df.columns[1])\n",
    "plt.legend()\n",
    "plt.show()\n",
    "\n",
    "# Вычисление skew и kurtosis\n",
    "series = df_proc.iloc[:,0]\n",
    "skew_s, kurt_s, skew_e, kurt_e = compute_skew_kurt(series, 30)\n",
    "\n",
    "# Визуализация метрик\n",
    "fig, ax = plt.subplots(1,2, figsize=(12,4))\n",
    "skew_s.plot(ax=ax[0], label='Rolling Skew (30)')\n",
    "kurt_s.plot(ax=ax[0], label='Rolling Kurt (30)')\n",
    "ax[0].set_title('Скользящие метрики')\n",
    "ax[0].legend()\n",
    "\n",
    "skew_e.plot(ax=ax[1], label='Exp Skew (min 30)')\n",
    "kurt_e.plot(ax=ax[1], label='Exp Kurt (min 30)')\n",
    "ax[1].set_title('Наращивающиеся метрики')\n",
    "ax[1].legend()\n",
    "plt.tight_layout()\n"
   ]
  },
  {
   "cell_type": "markdown",
   "id": "44fd2150",
   "metadata": {},
   "source": [
    "## Сравнение Rolling Skew (window=30) между рядами"
   ]
  },
  {
   "cell_type": "code",
   "execution_count": null,
   "id": "8880b659",
   "metadata": {},
   "outputs": [],
   "source": [
    "# Собираем rolling skew для каждого ряда\n",
    "comparison = pd.DataFrame()\n",
    "for title, path in datasets:\n",
    "    df = pd.read_csv(path)\n",
    "    df_proc = preprocess(df, df.columns[0], df.columns[1])\n",
    "    skew_s, _, _, _ = compute_skew_kurt(df_proc.iloc[:,0], 30)\n",
    "    comparison[title] = skew_s.values\n",
    "\n",
    "comparison.index = pd.to_datetime(pd.read_csv(datasets[0][1]).iloc[:,0])\n",
    "plt.figure(figsize=(10,5))\n",
    "for col in comparison.columns:\n",
    "    plt.plot(comparison.index, comparison[col], label=col)\n",
    "plt.title('Rolling Skew Comparison (30)')\n",
    "plt.xlabel('Дата')\n",
    "plt.legend()\n",
    "plt.show()"
   ]
  },
  {
   "cell_type": "markdown",
   "id": "ed7e75e7",
   "metadata": {},
   "source": [
    "## Выводы и рекомендации\n",
    "- Каждый ряд показал свои особенности: всплески skew/kurt в точках изменений для COVID и USD/RUB.\n",
    "- Ряд Chocolate Sales почти стабильный, без значительных аномалий по асимметрии.\n",
    "- Rolling skew шириной 30 точек хорошо выявляет изменения.\n",
    "\n",
    "**Рекомендации:** применять rolling skew на сырых данных для раннего обнаружения изменений."
   ]
  }
 ],
 "metadata": {},
 "nbformat": 4,
 "nbformat_minor": 5
}
